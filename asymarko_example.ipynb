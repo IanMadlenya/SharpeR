{
 "metadata": {
  "name": ""
 },
 "nbformat": 3,
 "nbformat_minor": 0,
 "worksheets": [
  {
   "cells": [
    {
     "cell_type": "code",
     "collapsed": false,
     "input": [
      "from __future__ import division\n",
      "from sympy import *\n",
      "from sympy.physics.quantum import TensorProduct\n",
      "init_printing(use_unicode=False, wrap_line=False, no_global=True)\n",
      "mu = symbols('\\mu')\n",
      "sg = symbols('\\sigma') \n",
      "# the elimination, duplication and U_{-1} matrices:\n",
      "Elim = Matrix(3,4,[1,0,0,0,  0,1,0,0,   0,0,0,1])\n",
      "Dupp = Matrix(4,3,[1,0,0, 0,1,0, 0,1,0, 0,0,1])\n",
      "Unun = Matrix(2,3,[0,1,0,  0,0,1])\n",
      "def quad_form(A,x):\n",
      "    \"\"\"compute the quadratic form x'Ax\"\"\"\n",
      "    return x.transpose() * A * x"
     ],
     "language": "python",
     "metadata": {},
     "outputs": [],
     "prompt_number": 1
    },
    {
     "cell_type": "code",
     "collapsed": false,
     "input": [
      "Theta = Matrix(2,2,[1,mu,mu,mu**2 + sg**2])\n",
      "Theta"
     ],
     "language": "python",
     "metadata": {},
     "outputs": [
      {
       "latex": [
        "$$\\left[\\begin{matrix}1 & \\mu\\\\\\mu & \\mu^{2} + \\sigma^{2}\\end{matrix}\\right]$$"
       ],
       "metadata": {},
       "output_type": "pyout",
       "prompt_number": 2,
       "text": [
        "[ 1        \\mu      ]\n",
        "[                   ]\n",
        "[        2         2]\n",
        "[\\mu  \\mu  + \\sigma ]"
       ]
      }
     ],
     "prompt_number": 2
    },
    {
     "cell_type": "code",
     "collapsed": false,
     "input": [
      "# compute tensor products and \n",
      "# the derivative d vech(Theta^-1) / d vech(Theta)\n",
      "Theta_Theta = TensorProduct(Theta,Theta)\n",
      "iTheta_iTheta = TensorProduct(Theta.inv(),Theta.inv())\n",
      "theta_i_deriv = Elim * (iTheta_iTheta) * Dupp"
     ],
     "language": "python",
     "metadata": {},
     "outputs": [],
     "prompt_number": 3
    },
    {
     "cell_type": "code",
     "collapsed": false,
     "input": [
      "# towards thm 3.7\n",
      "DTTD = quad_form(Theta_Theta,Dupp)\n",
      "D_DTTD_D = quad_form(DTTD,theta_i_deriv)\n",
      "iOmega = quad_form(D_DTTD_D,Unun.transpose())\n",
      "Omega = 2 * iOmega.inv()\n",
      "simplify(Omega)"
     ],
     "language": "python",
     "metadata": {},
     "outputs": [
      {
       "latex": [
        "$$\\left[\\begin{matrix}\\sigma^{2} & 2 \\mu \\sigma^{2}\\\\2 \\mu \\sigma^{2} & 2 \\sigma^{2} \\left(2 \\mu^{2} + \\sigma^{2}\\right)\\end{matrix}\\right]$$"
       ],
       "metadata": {},
       "output_type": "pyout",
       "prompt_number": 4,
       "text": [
        "[         2                        2        ]\n",
        "[   \\sigma             2*\\mu*\\sigma         ]\n",
        "[                                           ]\n",
        "[            2          2 /     2         2\\]\n",
        "[2*\\mu*\\sigma   2*\\sigma *\\2*\\mu  + \\sigma /]"
       ]
      }
     ],
     "prompt_number": 4
    },
    {
     "cell_type": "code",
     "collapsed": false,
     "input": [
      "# now use theorem 2.4\n",
      "theta_inv_var = quad_form(quad_form(Omega,Unun),theta_i_deriv.transpose())\n",
      "simplify(theta_inv_var)"
     ],
     "language": "python",
     "metadata": {},
     "outputs": [
      {
       "latex": [
        "$$\\left[\\begin{matrix}\\frac{2 \\mu^{2}}{\\sigma^{4}} \\left(\\mu^{2} + 2 \\sigma^{2}\\right) & - \\frac{2 \\mu}{\\sigma^{4}} \\left(\\mu^{2} + \\sigma^{2}\\right) & \\frac{2 \\mu^{2}}{\\sigma^{4}}\\\\- \\frac{2 \\mu}{\\sigma^{4}} \\left(\\mu^{2} + \\sigma^{2}\\right) & \\frac{1}{\\sigma^{4}} \\left(2 \\mu^{2} + \\sigma^{2}\\right) & - \\frac{2 \\mu}{\\sigma^{4}}\\\\\\frac{2 \\mu^{2}}{\\sigma^{4}} & - \\frac{2 \\mu}{\\sigma^{4}} & \\frac{2}{\\sigma^{4}}\\end{matrix}\\right]$$"
       ],
       "metadata": {},
       "output_type": "pyout",
       "prompt_number": 5,
       "text": [
        "[     2 /   2           2\\         /   2         2\\         2]\n",
        "[2*\\mu *\\\\mu  + 2*\\sigma /  -2*\\mu*\\\\mu  + \\sigma /    2*\\mu ]\n",
        "[-------------------------  ------------------------  -------]\n",
        "[               4                         4                 4]\n",
        "[         \\sigma                    \\sigma            \\sigma ]\n",
        "[                                                            ]\n",
        "[       /   2         2\\             2         2             ]\n",
        "[-2*\\mu*\\\\mu  + \\sigma /        2*\\mu  + \\sigma       -2*\\mu ]\n",
        "[------------------------       ----------------      -------]\n",
        "[              4                          4                 4]\n",
        "[        \\sigma                     \\sigma            \\sigma ]\n",
        "[                                                            ]\n",
        "[               2                                            ]\n",
        "[          2*\\mu                    -2*\\mu               2   ]\n",
        "[         -------                   -------           -------]\n",
        "[               4                         4                 4]\n",
        "[         \\sigma                    \\sigma            \\sigma ]"
       ]
      }
     ],
     "prompt_number": 5
    },
    {
     "cell_type": "code",
     "collapsed": false,
     "input": [
      "# now conjecture 3.8\n",
      "conjec = quad_form(Theta_Theta,Dupp)\n",
      "convar = 2 * (conjec.inv() - Matrix(3,3,[1,0,0,0,0,0,0,0,0]))\n",
      "simplify(convar)"
     ],
     "language": "python",
     "metadata": {},
     "outputs": [
      {
       "latex": [
        "$$\\left[\\begin{matrix}\\frac{2 \\mu^{2}}{\\sigma^{4}} \\left(\\mu^{2} + 2 \\sigma^{2}\\right) & - \\frac{2 \\mu}{\\sigma^{4}} \\left(\\mu^{2} + \\sigma^{2}\\right) & \\frac{2 \\mu^{2}}{\\sigma^{4}}\\\\- \\frac{2 \\mu}{\\sigma^{4}} \\left(\\mu^{2} + \\sigma^{2}\\right) & \\frac{1}{\\sigma^{4}} \\left(2 \\mu^{2} + \\sigma^{2}\\right) & - \\frac{2 \\mu}{\\sigma^{4}}\\\\\\frac{2 \\mu^{2}}{\\sigma^{4}} & - \\frac{2 \\mu}{\\sigma^{4}} & \\frac{2}{\\sigma^{4}}\\end{matrix}\\right]$$"
       ],
       "metadata": {},
       "output_type": "pyout",
       "prompt_number": 6,
       "text": [
        "[     2 /   2           2\\         /   2         2\\         2]\n",
        "[2*\\mu *\\\\mu  + 2*\\sigma /  -2*\\mu*\\\\mu  + \\sigma /    2*\\mu ]\n",
        "[-------------------------  ------------------------  -------]\n",
        "[               4                         4                 4]\n",
        "[         \\sigma                    \\sigma            \\sigma ]\n",
        "[                                                            ]\n",
        "[       /   2         2\\             2         2             ]\n",
        "[-2*\\mu*\\\\mu  + \\sigma /        2*\\mu  + \\sigma       -2*\\mu ]\n",
        "[------------------------       ----------------      -------]\n",
        "[              4                          4                 4]\n",
        "[        \\sigma                     \\sigma            \\sigma ]\n",
        "[                                                            ]\n",
        "[               2                                            ]\n",
        "[          2*\\mu                    -2*\\mu               2   ]\n",
        "[         -------                   -------           -------]\n",
        "[               4                         4                 4]\n",
        "[         \\sigma                    \\sigma            \\sigma ]"
       ]
      }
     ],
     "prompt_number": 6
    },
    {
     "cell_type": "code",
     "collapsed": false,
     "input": [
      "# are they the same?\n",
      "simplify(theta_inv_var - convar)"
     ],
     "language": "python",
     "metadata": {},
     "outputs": [
      {
       "latex": [
        "$$\\left[\\begin{matrix}0 & 0 & 0\\\\0 & 0 & 0\\\\0 & 0 & 0\\end{matrix}\\right]$$"
       ],
       "metadata": {},
       "output_type": "pyout",
       "prompt_number": 7,
       "text": [
        "[0  0  0]\n",
        "[       ]\n",
        "[0  0  0]\n",
        "[       ]\n",
        "[0  0  0]"
       ]
      }
     ],
     "prompt_number": 7
    }
   ],
   "metadata": {}
  }
 ]
}